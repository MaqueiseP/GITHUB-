{
  "nbformat": 4,
  "nbformat_minor": 0,
  "metadata": {
    "colab": {
      "name": "Aula 6-9.ipynb",
      "version": "0.3.2",
      "provenance": [],
      "collapsed_sections": [],
      "include_colab_link": true
    },
    "kernelspec": {
      "name": "python3",
      "display_name": "Python 3"
    }
  },
  "cells": [
    {
      "cell_type": "markdown",
      "metadata": {
        "id": "view-in-github",
        "colab_type": "text"
      },
      "source": [
        "<a href=\"https://colab.research.google.com/github/ShadowNig/GITHUB-/blob/master/Aula_6_9.ipynb\" target=\"_parent\"><img src=\"https://colab.research.google.com/assets/colab-badge.svg\" alt=\"Open In Colab\"/></a>"
      ]
    },
    {
      "cell_type": "markdown",
      "metadata": {
        "id": "ZMORclHO8vlJ",
        "colab_type": "text"
      },
      "source": [
        "# Aula 6 - Manipulação de Listas Lineares"
      ]
    },
    {
      "cell_type": "markdown",
      "metadata": {
        "id": "5VlY4CEE82Hc",
        "colab_type": "text"
      },
      "source": [
        "## Algoritmo de inserção\n"
      ]
    },
    {
      "cell_type": "markdown",
      "metadata": {
        "id": "tE_Cl4Vg87Vh",
        "colab_type": "text"
      },
      "source": [
        "\n",
        "\n",
        "+ **Objetivo:** Inserir o elemento x no vetor V com n elementos. ( A inserção será feita no final do vetor V. )\n",
        "+ Somente poderemos efetuar a inserção quando n < M, sendo M o numero maximo de elementos que o vetor V pode armazenar. Quando n  = M, a inserção de um novo elemento em V provocaria *Overflow*, e isso deve ser evitado.\n",
        "\n"
      ]
    },
    {
      "cell_type": "markdown",
      "metadata": {
        "id": "znkhtGUi9VQv",
        "colab_type": "text"
      },
      "source": [
        "### Prevenção de elementos repetidos"
      ]
    },
    {
      "cell_type": "markdown",
      "metadata": {
        "id": "q4iKaAk69cz0",
        "colab_type": "text"
      },
      "source": [
        "Para evitar a existencia de elementos repetidos, deve-se efetuar previamente uma busca do elemento que desejamos inserir. Se a busca sinalizar que x ja pertence a V, entao a inserção não será feita."
      ]
    },
    {
      "cell_type": "code",
      "metadata": {
        "id": "Z54on6KK-Egh",
        "colab_type": "code",
        "colab": {}
      },
      "source": [
        "if n < M :     # V possui espaço livre\n",
        "  if BUSCA1(x) == 0 :     # x não é repetido\n",
        "    V[n+1] = 0   \n",
        "    n = n+1\n",
        "  else :\n",
        "    print \"elemento já existe no vetor\"\n",
        "else :\n",
        "  print \"Overflow\"\n",
        "''' Complexidade O(n) devido a linha 2'''"
      ],
      "execution_count": 0,
      "outputs": []
    },
    {
      "cell_type": "markdown",
      "metadata": {
        "id": "QBOTuB4bATGn",
        "colab_type": "text"
      },
      "source": [
        "## Exercício:\n",
        "Suponha que V esteja ordenado e deseja-se inserir o elemento x em V respeitando-se a ordem dos elementos ( isto significa que x pode ser inserido no meio do vetor V). Como você modificaria o algoritmo anterior a fim de atender esta exigência?\n",
        "\n",
        "Uma solução é:"
      ]
    },
    {
      "cell_type": "code",
      "metadata": {
        "id": "l-c5VtgiBDTw",
        "colab_type": "code",
        "colab": {}
      },
      "source": [
        "if n = M :\n",
        "  print \"Overflow\"\n",
        "else :\n",
        "  V[n+1] = x                # Sentinela\n",
        "  i = 1\n",
        "  while V[i] < x :\n",
        "    i = i+1\n",
        "  if i < n+1 & V[i] != x :     # Inserir x no meio e executar movimentação de elementos\n",
        "    for j in range(n, i) :\n",
        "        V[j+1] = V[j]\n",
        "    V[i] = x\n",
        "    n = n+1\n",
        "  else :\n",
        "    if i == n+1 :          # x é o maior de todos\n",
        "      n = n+1\n",
        "    else :\n",
        "      print \"elemento já existe na tabela\"\n",
        "    "
      ],
      "execution_count": 0,
      "outputs": []
    },
    {
      "cell_type": "markdown",
      "metadata": {
        "id": "YRZspe4ZEQbq",
        "colab_type": "text"
      },
      "source": [
        "## Algoritmo de Remoção"
      ]
    },
    {
      "cell_type": "markdown",
      "metadata": {
        "id": "kg2Xi06kEd0I",
        "colab_type": "text"
      },
      "source": [
        "+ **Objetivo:** Retirar o elemento x do vetor V com n elementos\n",
        "+ Repare que a remoção de x pode deixar uma posição vaga dentro de V. Nesse caso, é necessário reagrupar os elementos restantes dentro do vetor.\n"
      ]
    },
    {
      "cell_type": "code",
      "metadata": {
        "id": "lpddoTe5FQym",
        "colab_type": "code",
        "colab": {}
      },
      "source": [
        "if n = 0 :\n",
        "  print \"Underflow\"       # V está vazio - nada a fazer\n",
        "else :\n",
        "  j = BUSCA1(x)           # verificar se x pertence a V\n",
        "  if j = 0 :\n",
        "    print \"elemento não está na tabela\"     # nada a fazer\n",
        "  else :          # reagrupamento dos elementos restantes\n",
        "    for i in range(j, n-1) :\n",
        "      V[i] = V[i+1]\n",
        "    n = n-1\n",
        "''' Complexidade O(n)'''"
      ],
      "execution_count": 0,
      "outputs": []
    },
    {
      "cell_type": "markdown",
      "metadata": {
        "id": "oL9gXl5wGOhK",
        "colab_type": "text"
      },
      "source": [
        "## **Exercício:**\n",
        "No  caso do vetor estar ordenado, a remoção de um elemento apresentaria modificações significativas em relação ao algoritmo de remoção exposto?"
      ]
    },
    {
      "cell_type": "markdown",
      "metadata": {
        "id": "GReXd0HZGzPv",
        "colab_type": "text"
      },
      "source": [
        "# Aula 7 - Caso Medio da Busca Linear\n",
        "\n",
        "Não será falado agora."
      ]
    },
    {
      "cell_type": "markdown",
      "metadata": {
        "id": "mIfnyuJ4G9mu",
        "colab_type": "text"
      },
      "source": [
        "# Aula 8 - Busca Binária\n",
        "\n",
        "+ A busca binária é empregada apenas em **listas ordenadas**.\n",
        "+ **Objetivo:** Percorrer a tabela como se folheia uma lista telefônica, isto é:\n",
        "  - Abrir a lista no meio\n",
        "  - Se a informação procurada se encontra antes da página que estamos olhando, passamos a procurá-la na primeira metade da lista, desprezando a segunda metade.\n",
        "  - Caso contrário, passamos a procurá-la na segunda metade, desprezando a primeira metade.\n",
        "  - Abrimos a lista novamente no meio da metade escolhida, e assim sucessivamente.\n",
        "\n",
        "**Variáveis:**\n",
        "+ INF: marca o início da lista formada pelos elementos sendo atualmente considerados.\n",
        "+ SUP: marca o fim da lista formada pelos elementos sendo atualmente considerados.\n",
        "+ MEIO: marca a posição do elemento a ser comparado"
      ]
    },
    {
      "cell_type": "markdown",
      "metadata": {
        "id": "HvgZqqXpJPf5",
        "colab_type": "text"
      },
      "source": [
        "## Algoritmo de Busca Binária"
      ]
    },
    {
      "cell_type": "code",
      "metadata": {
        "id": "XFVRUF3IJWv8",
        "colab_type": "code",
        "colab": {}
      },
      "source": [
        "def BUSCA_BIN (x) :\n",
        "  INF = 1\n",
        "  SUP = n\n",
        "  BUSCA_BIN = 0\n",
        "  while INF <= SUP :\n",
        "    MEIO = (INF+SUP)/2\n",
        "    if V[MEIO] = x :\n",
        "      BUSCA_BIN = MEIO      # elemento encontrado\n",
        "      INF = SUP+1           # força a parada\n",
        "    else :\n",
        "      if V[MEIO] < x :\n",
        "        INF = MEIO+1        # metade posterior\n",
        "      else :\n",
        "        SUP = MEIO -1       # metade anterior \n"
      ],
      "execution_count": 0,
      "outputs": []
    },
    {
      "cell_type": "markdown",
      "metadata": {
        "id": "5t-GEjD0KgU3",
        "colab_type": "text"
      },
      "source": [
        "### **Exercício:**\n",
        "[...]"
      ]
    },
    {
      "cell_type": "markdown",
      "metadata": {
        "id": "Pt6dZiGGKllZ",
        "colab_type": "text"
      },
      "source": [
        "## Complexidade de Pior Caso da Busca Binária\n",
        "+ O pior caso ocorre quando o elemento procurado é o último que resta na lista de elementos possiveis, ou quando o elemento procurado não está na lista.\n",
        "+ Observe que nas duas situações, a busca segue até restar um único elemento."
      ]
    },
    {
      "cell_type": "markdown",
      "metadata": {
        "id": "CHBL8njgLa0f",
        "colab_type": "text"
      },
      "source": [
        "+ Podemos calcular o número de iterações que a busca realiza no pior caso:\n",
        "  + 1ª iteração : n elementos na lista.\n",
        "  + 2ª iteração : n/2 elementos na lista.\n",
        "  + 3ª iteração : (n/2)/2 elementos na lista.\n",
        "  + ...\n",
        "  + última iteração : 1 elementos na lista.\n",
        "+ Portanto o número de iterações é no máximo 1+⌊log_(2)n⌋. Como cada iteração consome um tempo constante, concluímos que a complexidade de pior caso da busca binária é θ(log_(2)n)\n",
        "\n"
      ]
    },
    {
      "cell_type": "markdown",
      "metadata": {
        "id": "kSfxYTxJN1g3",
        "colab_type": "text"
      },
      "source": [
        "# Aula 9 - Ordenação de Listas Lineares\n",
        "+ **Problema:** Dada uma lista linear L com n elementos, deseja-se ordena-los crescentemente através de trocas de suas posições originais.\n"
      ]
    },
    {
      "cell_type": "markdown",
      "metadata": {
        "id": "AGAECpOPOWDY",
        "colab_type": "text"
      },
      "source": [
        "## Ordenação por Seleção\n",
        "+ **Ideia:** Encontrar o menor elemento e trocá-lo de posição como primeiro. Repetir o processo a partir do segundo elemento e assim sucessivamente.\n"
      ]
    },
    {
      "cell_type": "markdown",
      "metadata": {
        "id": "Qz8wfizcPGNP",
        "colab_type": "text"
      },
      "source": [
        "### Algoritmo de Ordenação por Seleção"
      ]
    },
    {
      "cell_type": "code",
      "metadata": {
        "id": "zUcKhlHAO3Ok",
        "colab_type": "code",
        "colab": {}
      },
      "source": [
        "for i in range(1, n) :    # considerar a lista da posição i em diante\n",
        "  MENOR = i               # para cada valor de i\n",
        "  for j in range(i+1, n) :  # procurar o menor\n",
        "    if V[j] < V[MENOR] :      # (*)\n",
        "      MENOR = j\n",
        "  AUX = V[i]    # fazer a troca\n",
        "  V[i] = V[MENOR]\n",
        "  V[MENOR] = AUX\n",
        "''' Número de comparações na linha (*). Portanto, a complexidade é θ(n^2)'''\n",
        "    "
      ],
      "execution_count": 0,
      "outputs": []
    },
    {
      "cell_type": "markdown",
      "metadata": {
        "id": "p0uCoKp4QeIP",
        "colab_type": "text"
      },
      "source": [
        "## Ordenação pelo Método da Bolha\n",
        "+ **Idéia:** Os elementos mais leves \"sobem\". Os elementos mais pesados \"descem e vão para o fundo\". Pode-se comparar a subida de um elemento como uma bolha que tenta chegar a superfície.\n",
        "+ Extremidade esquerda da lista corresponde à \"superfície\"\n",
        "+ Extremidade direita da lista corresponde à \"fundo\"\n",
        "+ **Objetivo:** Fazer bolha subir até encontrar sua posição.\n",
        "  - 1º elemento é bolha: não faz nada\n",
        "  - 2º elemento é bolha: se bolha é menor que elemento da esquerda(elemento 1), troca. Se não, não faz nada;\n",
        "   - 3º elemento é bolha: se bolha é menor que elemento da esquerda (elemento 2), troca. Se não, não faz nada; Se trocou, então se bolha é menor que elemento da esquerda (elemento 1), troca. Se não, não faz nada; \n",
        "   - Faz isso até o último elemento.\n",
        "   "
      ]
    },
    {
      "cell_type": "markdown",
      "metadata": {
        "id": "-fT31HlrSgV7",
        "colab_type": "text"
      },
      "source": [
        "### Algoritmo de Ordenação pelo método da bolha"
      ]
    },
    {
      "cell_type": "code",
      "metadata": {
        "id": "-rDoFuYhSqvu",
        "colab_type": "code",
        "colab": {}
      },
      "source": [
        "for i in range(1, n) :\n",
        "  BOLHA = i\n",
        "  while BOLHA > 1 :\n",
        "    if V[BOLHA] < V[BOLHA-1]:     # (*)\n",
        "      AUX = V[BOLHA-1]      # troca\n",
        "      V[BOLHA-1] = V[BOLHA]\n",
        "      V[BOLHA] = AUX\n",
        "      BOLHA = BOLHA - 1      # bolha \"sobe\"\n",
        "    else :\n",
        "      BOLHA = 1           # fim da \"subida\"\n",
        "'''No pior caso são efetuadas i-1 comparações na linha (*), \n",
        "para cada valor de i que inicia a variável BOLHA. Portanto, temos \n",
        "0+1+2+...+n-1 = n(n-1)/2 = O(n^2)'''\n",
        "    "
      ],
      "execution_count": 0,
      "outputs": []
    }
  ]
}