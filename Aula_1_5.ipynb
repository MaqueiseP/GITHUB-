{
  "nbformat": 4,
  "nbformat_minor": 0,
  "metadata": {
    "colab": {
      "name": "Aula 1-5.ipynb",
      "version": "0.3.2",
      "provenance": [],
      "collapsed_sections": [],
      "include_colab_link": true
    },
    "kernelspec": {
      "name": "python3",
      "display_name": "Python 3"
    }
  },
  "cells": [
    {
      "cell_type": "markdown",
      "metadata": {
        "id": "view-in-github",
        "colab_type": "text"
      },
      "source": [
        "<a href=\"https://colab.research.google.com/github/ShadowNig/GITHUB-/blob/master/Aula_1_5.ipynb\" target=\"_parent\"><img src=\"https://colab.research.google.com/assets/colab-badge.svg\" alt=\"Open In Colab\"/></a>"
      ]
    },
    {
      "cell_type": "markdown",
      "metadata": {
        "id": "Vx_wvgkwQ8Ii",
        "colab_type": "text"
      },
      "source": [
        "# Aula 1 - Introdução"
      ]
    },
    {
      "cell_type": "markdown",
      "metadata": {
        "id": "D2nS7CZxPvnB",
        "colab_type": "text"
      },
      "source": [
        "- Um **ponteiro** é indicado pelo simbolo ⬆.\n",
        "  + exemplo: `pt ⬆ info` representa o campo `info` de um registro alocado no endereço contido em `pt`. \n",
        "- O **piso** de x, indicado por ⌊ x ⌋, representa o maior inteiro ≤ x.\n",
        "- O **teto** de x, indicado por ⌈ x ⌉, representa o menor inteiro ≥ x.\n",
        "  + Propriedades: ⌊ n/2 ⌋ + ⌈ n/2 ⌉  = n."
      ]
    },
    {
      "cell_type": "markdown",
      "metadata": {
        "id": "_HEb3c7fYQp2",
        "colab_type": "text"
      },
      "source": [
        "## **Exemplo:** Inversão de sequências\n",
        "Algoritmo:"
      ]
    },
    {
      "cell_type": "code",
      "metadata": {
        "id": "h0Q7zTjmYgXq",
        "colab_type": "code",
        "colab": {}
      },
      "source": [
        "for i in range(1, ⌊ n/2 ⌋):\n",
        "  AUX = V[i]\n",
        "  V[i] = V[n-i+1]\n",
        "  V[n-i+1] = AUX"
      ],
      "execution_count": 0,
      "outputs": []
    },
    {
      "cell_type": "markdown",
      "metadata": {
        "id": "hpAeJQ-JY7MV",
        "colab_type": "text"
      },
      "source": [
        "# Aula 2 - Recursividade\n"
      ]
    },
    {
      "cell_type": "markdown",
      "metadata": {
        "id": "t_06AI7cZESJ",
        "colab_type": "text"
      },
      "source": [
        "- **Procedimentos ou funções recursivas** correspondem a aqueles que contêm chamadas de si mesmo.\n",
        "- Todo procedimento, recursivo ou não, deve possuir pelo menos uma chamada não recursiva. Essas são denominadas **chamadas externas**.\n",
        "- Se ocorrer uma chamada recursiva:\n",
        "  + O algoritmo é interrompido e reiniciado no principio do procedimento recursivo;\n",
        "  + Após o termino da computação do procedimento correspondente a chamada, o algoritmo é reiniciado no pponto seguinte ao da ocorrência da chamada recursiva."
      ]
    },
    {
      "cell_type": "markdown",
      "metadata": {
        "id": "-1WmkCUmcGve",
        "colab_type": "text"
      },
      "source": [
        "## Recursividade vs Iteração\n",
        "- De um modo geral, cada processo recursivo corresponde a um outro iterativo.\n",
        "- Vantagens da **recursão**:\n",
        "  + geralmente,  algoritmos mais concisos;\n",
        "  + geralmente, prova de correção mais simples.\n",
        "- Vantagens da **Iteração**:\n",
        "  + geralmente, mais eficiente."
      ]
    },
    {
      "cell_type": "markdown",
      "metadata": {
        "id": "5_0qv-afc7b7",
        "colab_type": "text"
      },
      "source": [
        "### **Exemplo:** Cálculo do fatorial\n",
        "\n",
        "**Idéia:** n! = n(n-1)!\n",
        "\n",
        "Algoritmo recursivo:\n"
      ]
    },
    {
      "cell_type": "code",
      "metadata": {
        "id": "BcS_xUFKdXf9",
        "colab_type": "code",
        "colab": {}
      },
      "source": [
        "def fat(i):\n",
        "  if i<=1 :\n",
        "    return 1\n",
        "  else:\n",
        "    return i*fat(i-1)\n",
        "'''Chamada externa: fat(n)'''"
      ],
      "execution_count": 0,
      "outputs": []
    },
    {
      "cell_type": "markdown",
      "metadata": {
        "id": "-WrDffDWe8x4",
        "colab_type": "text"
      },
      "source": [
        "Algoritmo iterativo:\n",
        "- Variável `fat` representa um vetor, e não mais uma função."
      ]
    },
    {
      "cell_type": "code",
      "metadata": {
        "id": "MkTDkhP3fLTs",
        "colab_type": "code",
        "colab": {}
      },
      "source": [
        "fat[0] = 1\n",
        "for j in range(1, n):\n",
        "  fat[j] = j*fat[j-1]"
      ],
      "execution_count": 0,
      "outputs": []
    },
    {
      "cell_type": "markdown",
      "metadata": {
        "id": "37Ds0EmgeJhL",
        "colab_type": "text"
      },
      "source": [
        "#### Seguindo os passos de um algoritmo:\n",
        "**Exemplo:** n = 5\n",
        "- **Recursivo:**\n",
        "\n",
        "> fat(5)\n",
        "\n",
        ">Resposta: 120\n",
        "\n",
        "- **Iterativo:**\n",
        "\n",
        "> fat[0]\n",
        "\n",
        ">Resposta: 1\n",
        "\n",
        "> fat[1]\n",
        "\n",
        ">Resposta: 1\n",
        "\n",
        "> fat[2]\n",
        "\n",
        ">Resposta: 2\n",
        "\n",
        "> fat[3]\n",
        "\n",
        ">Resposta: 6\n",
        "\n",
        "> fat[4]\n",
        "\n",
        ">Resposta: 24\n",
        "\n",
        "> fat[5]\n",
        "\n",
        ">Resposta: 120\n"
      ]
    },
    {
      "cell_type": "markdown",
      "metadata": {
        "id": "SDjIXuGogQxx",
        "colab_type": "text"
      },
      "source": [
        "## Problema da Torre de Hanói\n",
        "O problema consiste em 3 pinos, A, B e C denominados  **origem**, **destino** e **trabalho**, respectivamente. Além dos pinos, há n discos de diâmetros diferentes. Inicialmente, todos os  discos se encontram no pino origem empilhados em ordem crescente de tamanho de cima pra baixo. \n",
        "- **Objetivo:** Empilhar todos os discos no pino destino.\n",
        "- **Restrições:** \n",
        "  + Apenas 1 disco pode ser movido por vez;\n",
        "  + Nenhum disco pode ser colocado sobre outro de menor tamanho.\n",
        "\n",
        "Algoritmo:"
      ]
    },
    {
      "cell_type": "code",
      "metadata": {
        "id": "RL8RsyjCgQH7",
        "colab_type": "code",
        "colab": {}
      },
      "source": [
        "def hanoi(n, A, B, C):\n",
        "  if n>0 :\n",
        "    hanoi(n-1, A, C, B)\n",
        "    cat \"mover disco do topo de\", A, \"para\", B\n",
        "    hanoi(n-1, C, B, A)\n",
        "'''Paramentros:\n",
        "    1º: numero de discos\n",
        "    2º: pino de origem\n",
        "    3º: pino de destino\n",
        "    4º: pino de trabalho\n",
        "   Observações: O algoritmo requer exatamente (2^n)-1 movimentos de disco'''\n"
      ],
      "execution_count": 0,
      "outputs": []
    },
    {
      "cell_type": "markdown",
      "metadata": {
        "id": "v1_fVmJVk8Zs",
        "colab_type": "text"
      },
      "source": [
        "# Aula 3 - Complexidade de Algoritmos"
      ]
    },
    {
      "cell_type": "markdown",
      "metadata": {
        "id": "hL1lt33RlByt",
        "colab_type": "text"
      },
      "source": [
        "## Avaliação de Tempo de Algoritmos\n",
        "- Podemos avaliar o tempo por métodos **empíricos** ou **analíticos.\n",
        "- **Empíricos:**\n",
        "  + Baseado na medição do tempo de execução do algoritmo.\n",
        "  + Dependem do computador, linguagem, compilador, dados, etc. utilizados na experiência.\n",
        "  + Admitem um tratamento estatístico.\n",
        "- **Analíticos:**\n",
        "  + Determinação de expressões matemáticas que possam estimar o comportamento de tempo de um algoritmo.\n",
        "  + Independem do computador, linguagem e compilador.\n",
        "  + Objetivo ambicioso.\n"
      ]
    },
    {
      "cell_type": "markdown",
      "metadata": {
        "id": "3DGcmjQgm5ZC",
        "colab_type": "text"
      },
      "source": [
        "## Estudo de Métodos Analíticos     (slide 3.4)"
      ]
    },
    {
      "cell_type": "markdown",
      "metadata": {
        "id": "TJevQh2lRwtL",
        "colab_type": "text"
      },
      "source": [
        "![alt text](https://)## Aula 4: Notação O, Ω e θ "
      ]
    }
  ]
}